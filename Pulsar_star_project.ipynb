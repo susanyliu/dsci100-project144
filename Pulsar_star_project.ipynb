{
 "cells": [
  {
   "cell_type": "markdown",
   "id": "d2fe0ca2-cb35-476d-8ede-302271dcb2a9",
   "metadata": {},
   "source": [
    "# **Pulsar Star Project**\n",
    "\n",
    "### Group 144\n",
    "\n"
   ]
  },
  {
   "cell_type": "markdown",
   "id": "7e32d210-9f70-41f3-9e49-b94e94c871f2",
   "metadata": {},
   "source": [
    "## Introduction"
   ]
  },
  {
   "cell_type": "markdown",
   "id": "ba75eea9-9c5a-410d-82a8-51cccf45a045",
   "metadata": {},
   "source": [
    "* Provide some relevant background information on the topic so that someone unfamiliar with it will be prepared to understand the rest of your proposal\n",
    "* Clearly state the question you will try to answer with your project\n",
    "* Identify and describe the dataset that will be used to answer the question\n"
   ]
  },
  {
   "cell_type": "markdown",
   "id": "6a55330a-7c62-48ad-b666-029414796846",
   "metadata": {
    "tags": []
   },
   "source": [
    "## Preliminary Exploratory Data Analysis"
   ]
  },
  {
   "cell_type": "code",
   "execution_count": 1,
   "id": "7c031f6a-4c5a-44f4-91ca-527d24aa9fdb",
   "metadata": {},
   "outputs": [
    {
     "name": "stderr",
     "output_type": "stream",
     "text": [
      "── \u001b[1mAttaching packages\u001b[22m ─────────────────────────────────────── tidyverse 1.3.1 ──\n",
      "\n",
      "\u001b[32m✔\u001b[39m \u001b[34mggplot2\u001b[39m 3.3.6     \u001b[32m✔\u001b[39m \u001b[34mpurrr  \u001b[39m 0.3.4\n",
      "\u001b[32m✔\u001b[39m \u001b[34mtibble \u001b[39m 3.1.7     \u001b[32m✔\u001b[39m \u001b[34mdplyr  \u001b[39m 1.0.9\n",
      "\u001b[32m✔\u001b[39m \u001b[34mtidyr  \u001b[39m 1.2.0     \u001b[32m✔\u001b[39m \u001b[34mstringr\u001b[39m 1.4.0\n",
      "\u001b[32m✔\u001b[39m \u001b[34mreadr  \u001b[39m 2.1.2     \u001b[32m✔\u001b[39m \u001b[34mforcats\u001b[39m 0.5.1\n",
      "\n",
      "── \u001b[1mConflicts\u001b[22m ────────────────────────────────────────── tidyverse_conflicts() ──\n",
      "\u001b[31m✖\u001b[39m \u001b[34mdplyr\u001b[39m::\u001b[32mfilter()\u001b[39m masks \u001b[34mstats\u001b[39m::filter()\n",
      "\u001b[31m✖\u001b[39m \u001b[34mdplyr\u001b[39m::\u001b[32mlag()\u001b[39m    masks \u001b[34mstats\u001b[39m::lag()\n",
      "\n",
      "── \u001b[1mAttaching packages\u001b[22m ────────────────────────────────────── tidymodels 1.0.0 ──\n",
      "\n",
      "\u001b[32m✔\u001b[39m \u001b[34mbroom       \u001b[39m 1.0.0     \u001b[32m✔\u001b[39m \u001b[34mrsample     \u001b[39m 1.0.0\n",
      "\u001b[32m✔\u001b[39m \u001b[34mdials       \u001b[39m 1.0.0     \u001b[32m✔\u001b[39m \u001b[34mtune        \u001b[39m 1.0.0\n",
      "\u001b[32m✔\u001b[39m \u001b[34minfer       \u001b[39m 1.0.2     \u001b[32m✔\u001b[39m \u001b[34mworkflows   \u001b[39m 1.0.0\n",
      "\u001b[32m✔\u001b[39m \u001b[34mmodeldata   \u001b[39m 1.0.0     \u001b[32m✔\u001b[39m \u001b[34mworkflowsets\u001b[39m 1.0.0\n",
      "\u001b[32m✔\u001b[39m \u001b[34mparsnip     \u001b[39m 1.0.0     \u001b[32m✔\u001b[39m \u001b[34myardstick   \u001b[39m 1.0.0\n",
      "\u001b[32m✔\u001b[39m \u001b[34mrecipes     \u001b[39m 1.0.1     \n",
      "\n",
      "── \u001b[1mConflicts\u001b[22m ───────────────────────────────────────── tidymodels_conflicts() ──\n",
      "\u001b[31m✖\u001b[39m \u001b[34mscales\u001b[39m::\u001b[32mdiscard()\u001b[39m masks \u001b[34mpurrr\u001b[39m::discard()\n",
      "\u001b[31m✖\u001b[39m \u001b[34mdplyr\u001b[39m::\u001b[32mfilter()\u001b[39m   masks \u001b[34mstats\u001b[39m::filter()\n",
      "\u001b[31m✖\u001b[39m \u001b[34mrecipes\u001b[39m::\u001b[32mfixed()\u001b[39m  masks \u001b[34mstringr\u001b[39m::fixed()\n",
      "\u001b[31m✖\u001b[39m \u001b[34mdplyr\u001b[39m::\u001b[32mlag()\u001b[39m      masks \u001b[34mstats\u001b[39m::lag()\n",
      "\u001b[31m✖\u001b[39m \u001b[34myardstick\u001b[39m::\u001b[32mspec()\u001b[39m masks \u001b[34mreadr\u001b[39m::spec()\n",
      "\u001b[31m✖\u001b[39m \u001b[34mrecipes\u001b[39m::\u001b[32mstep()\u001b[39m   masks \u001b[34mstats\u001b[39m::step()\n",
      "\u001b[34m•\u001b[39m Learn how to get started at \u001b[32mhttps://www.tidymodels.org/start/\u001b[39m\n",
      "\n"
     ]
    }
   ],
   "source": [
    "#load library\n",
    "library(tidyverse)\n",
    "library(repr)\n",
    "library(tidymodels)"
   ]
  },
  {
   "cell_type": "markdown",
   "id": "d8c21893-d3e6-499e-b920-6dac3c992de4",
   "metadata": {},
   "source": [
    "First, we read in the dataset"
   ]
  },
  {
   "cell_type": "code",
   "execution_count": 9,
   "id": "4a2c941b-b2a7-43e9-a5c7-4299055e0e64",
   "metadata": {},
   "outputs": [
    {
     "name": "stderr",
     "output_type": "stream",
     "text": [
      "\u001b[1mRows: \u001b[22m\u001b[34m17898\u001b[39m \u001b[1mColumns: \u001b[22m\u001b[34m9\u001b[39m\n",
      "\u001b[36m──\u001b[39m \u001b[1mColumn specification\u001b[22m \u001b[36m────────────────────────────────────────────────────────\u001b[39m\n",
      "\u001b[1mDelimiter:\u001b[22m \",\"\n",
      "\u001b[32mdbl\u001b[39m (9): X1, X2, X3, X4, X5, X6, X7, X8, X9\n",
      "\n",
      "\u001b[36mℹ\u001b[39m Use `spec()` to retrieve the full column specification for this data.\n",
      "\u001b[36mℹ\u001b[39m Specify the column types or set `show_col_types = FALSE` to quiet this message.\n"
     ]
    },
    {
     "name": "stdout",
     "output_type": "stream",
     "text": [
      "Rows: 17,898\n",
      "Columns: 9\n",
      "$ X1 \u001b[3m\u001b[90m<dbl>\u001b[39m\u001b[23m 140.56250, 102.50781, 103.01562, 136.75000, 88.72656, 93.57031, 119…\n",
      "$ X2 \u001b[3m\u001b[90m<dbl>\u001b[39m\u001b[23m 55.68378, 58.88243, 39.34165, 57.17845, 40.67223, 46.69811, 48.7650…\n",
      "$ X3 \u001b[3m\u001b[90m<dbl>\u001b[39m\u001b[23m -0.23457141, 0.46531815, 0.32332837, -0.06841464, 0.60086608, 0.531…\n",
      "$ X4 \u001b[3m\u001b[90m<dbl>\u001b[39m\u001b[23m -0.69964840, -0.51508791, 1.05116443, -0.63623837, 1.12349169, 0.41…\n",
      "$ X5 \u001b[3m\u001b[90m<dbl>\u001b[39m\u001b[23m 3.1998328, 1.6772575, 3.1212375, 3.6429766, 1.1789298, 1.6362876, 0…\n",
      "$ X6 \u001b[3m\u001b[90m<dbl>\u001b[39m\u001b[23m 19.110426, 14.860146, 21.744669, 20.959280, 11.468720, 14.545074, 9…\n",
      "$ X7 \u001b[3m\u001b[90m<dbl>\u001b[39m\u001b[23m 7.975532, 10.576487, 7.735822, 6.896499, 14.269573, 10.621748, 19.2…\n",
      "$ X8 \u001b[3m\u001b[90m<dbl>\u001b[39m\u001b[23m 74.24222, 127.39358, 63.17191, 53.59366, 252.56731, 131.39400, 479.…\n",
      "$ X9 \u001b[3m\u001b[90m<dbl>\u001b[39m\u001b[23m 0, 0, 0, 0, 0, 0, 0, 0, 0, 0, 0, 0, 0, 0, 0, 0, 0, 0, 0, 1, 0, 0, 0…\n"
     ]
    }
   ],
   "source": [
    "#read in the data set\n",
    "pulsar <- read_csv('data/HTRU_2.csv', col_names = FALSE)\n",
    "glimpse(pulsar)"
   ]
  },
  {
   "cell_type": "markdown",
   "id": "473d303d-b4eb-49d9-8440-2e6bd9faba3c",
   "metadata": {},
   "source": [
    "Note that the column names are not colnames ()made, so next we add names for them."
   ]
  },
  {
   "cell_type": "code",
   "execution_count": 12,
   "id": "c5ea0a7a-29f2-4e20-b02d-08ab95e82bb1",
   "metadata": {},
   "outputs": [
    {
     "data": {
      "text/html": [
       "<table class=\"dataframe\">\n",
       "<caption>A tibble: 6 × 9</caption>\n",
       "<thead>\n",
       "\t<tr><th scope=col>Profile_mean</th><th scope=col>Profile_stdev</th><th scope=col>Profile_skewness</th><th scope=col>Profile_kurtosis</th><th scope=col>DM_mean</th><th scope=col>DM_stdev</th><th scope=col>DM_skewness</th><th scope=col>DM_kurtosis</th><th scope=col>class</th></tr>\n",
       "\t<tr><th scope=col>&lt;dbl&gt;</th><th scope=col>&lt;dbl&gt;</th><th scope=col>&lt;dbl&gt;</th><th scope=col>&lt;dbl&gt;</th><th scope=col>&lt;dbl&gt;</th><th scope=col>&lt;dbl&gt;</th><th scope=col>&lt;dbl&gt;</th><th scope=col>&lt;dbl&gt;</th><th scope=col>&lt;dbl&gt;</th></tr>\n",
       "</thead>\n",
       "<tbody>\n",
       "\t<tr><td>140.56250</td><td>55.68378</td><td>-0.23457141</td><td>-0.6996484</td><td>3.199833</td><td>19.11043</td><td> 7.975532</td><td> 74.24222</td><td>0</td></tr>\n",
       "\t<tr><td>102.50781</td><td>58.88243</td><td> 0.46531815</td><td>-0.5150879</td><td>1.677258</td><td>14.86015</td><td>10.576487</td><td>127.39358</td><td>0</td></tr>\n",
       "\t<tr><td>103.01562</td><td>39.34165</td><td> 0.32332837</td><td> 1.0511644</td><td>3.121237</td><td>21.74467</td><td> 7.735822</td><td> 63.17191</td><td>0</td></tr>\n",
       "\t<tr><td>136.75000</td><td>57.17845</td><td>-0.06841464</td><td>-0.6362384</td><td>3.642977</td><td>20.95928</td><td> 6.896499</td><td> 53.59366</td><td>0</td></tr>\n",
       "\t<tr><td> 88.72656</td><td>40.67223</td><td> 0.60086608</td><td> 1.1234917</td><td>1.178930</td><td>11.46872</td><td>14.269573</td><td>252.56731</td><td>0</td></tr>\n",
       "\t<tr><td> 93.57031</td><td>46.69811</td><td> 0.53190485</td><td> 0.4167211</td><td>1.636288</td><td>14.54507</td><td>10.621748</td><td>131.39400</td><td>0</td></tr>\n",
       "</tbody>\n",
       "</table>\n"
      ],
      "text/latex": [
       "A tibble: 6 × 9\n",
       "\\begin{tabular}{lllllllll}\n",
       " Profile\\_mean & Profile\\_stdev & Profile\\_skewness & Profile\\_kurtosis & DM\\_mean & DM\\_stdev & DM\\_skewness & DM\\_kurtosis & class\\\\\n",
       " <dbl> & <dbl> & <dbl> & <dbl> & <dbl> & <dbl> & <dbl> & <dbl> & <dbl>\\\\\n",
       "\\hline\n",
       "\t 140.56250 & 55.68378 & -0.23457141 & -0.6996484 & 3.199833 & 19.11043 &  7.975532 &  74.24222 & 0\\\\\n",
       "\t 102.50781 & 58.88243 &  0.46531815 & -0.5150879 & 1.677258 & 14.86015 & 10.576487 & 127.39358 & 0\\\\\n",
       "\t 103.01562 & 39.34165 &  0.32332837 &  1.0511644 & 3.121237 & 21.74467 &  7.735822 &  63.17191 & 0\\\\\n",
       "\t 136.75000 & 57.17845 & -0.06841464 & -0.6362384 & 3.642977 & 20.95928 &  6.896499 &  53.59366 & 0\\\\\n",
       "\t  88.72656 & 40.67223 &  0.60086608 &  1.1234917 & 1.178930 & 11.46872 & 14.269573 & 252.56731 & 0\\\\\n",
       "\t  93.57031 & 46.69811 &  0.53190485 &  0.4167211 & 1.636288 & 14.54507 & 10.621748 & 131.39400 & 0\\\\\n",
       "\\end{tabular}\n"
      ],
      "text/markdown": [
       "\n",
       "A tibble: 6 × 9\n",
       "\n",
       "| Profile_mean &lt;dbl&gt; | Profile_stdev &lt;dbl&gt; | Profile_skewness &lt;dbl&gt; | Profile_kurtosis &lt;dbl&gt; | DM_mean &lt;dbl&gt; | DM_stdev &lt;dbl&gt; | DM_skewness &lt;dbl&gt; | DM_kurtosis &lt;dbl&gt; | class &lt;dbl&gt; |\n",
       "|---|---|---|---|---|---|---|---|---|\n",
       "| 140.56250 | 55.68378 | -0.23457141 | -0.6996484 | 3.199833 | 19.11043 |  7.975532 |  74.24222 | 0 |\n",
       "| 102.50781 | 58.88243 |  0.46531815 | -0.5150879 | 1.677258 | 14.86015 | 10.576487 | 127.39358 | 0 |\n",
       "| 103.01562 | 39.34165 |  0.32332837 |  1.0511644 | 3.121237 | 21.74467 |  7.735822 |  63.17191 | 0 |\n",
       "| 136.75000 | 57.17845 | -0.06841464 | -0.6362384 | 3.642977 | 20.95928 |  6.896499 |  53.59366 | 0 |\n",
       "|  88.72656 | 40.67223 |  0.60086608 |  1.1234917 | 1.178930 | 11.46872 | 14.269573 | 252.56731 | 0 |\n",
       "|  93.57031 | 46.69811 |  0.53190485 |  0.4167211 | 1.636288 | 14.54507 | 10.621748 | 131.39400 | 0 |\n",
       "\n"
      ],
      "text/plain": [
       "  Profile_mean Profile_stdev Profile_skewness Profile_kurtosis DM_mean \n",
       "1 140.56250    55.68378      -0.23457141      -0.6996484       3.199833\n",
       "2 102.50781    58.88243       0.46531815      -0.5150879       1.677258\n",
       "3 103.01562    39.34165       0.32332837       1.0511644       3.121237\n",
       "4 136.75000    57.17845      -0.06841464      -0.6362384       3.642977\n",
       "5  88.72656    40.67223       0.60086608       1.1234917       1.178930\n",
       "6  93.57031    46.69811       0.53190485       0.4167211       1.636288\n",
       "  DM_stdev DM_skewness DM_kurtosis class\n",
       "1 19.11043  7.975532    74.24222   0    \n",
       "2 14.86015 10.576487   127.39358   0    \n",
       "3 21.74467  7.735822    63.17191   0    \n",
       "4 20.95928  6.896499    53.59366   0    \n",
       "5 11.46872 14.269573   252.56731   0    \n",
       "6 14.54507 10.621748   131.39400   0    "
      ]
     },
     "metadata": {},
     "output_type": "display_data"
    }
   ],
   "source": [
    "#add column names\n",
    "colnames(pulsar) <- c('Profile_mean', 'Profile_stdev', 'Profile_skewness', 'Profile_kurtosis', \n",
    "                      'DM_mean', 'DM_stdev', 'DM_skewness', 'DM_kurtosis', 'class')\n",
    "head(pulsar)"
   ]
  },
  {
   "cell_type": "markdown",
   "id": "66b105db-8531-4ac9-b3df-760e55f6baae",
   "metadata": {},
   "source": [
    "Note that the class column is not of double type, so we change it into a factor."
   ]
  },
  {
   "cell_type": "code",
   "execution_count": 18,
   "id": "d912f824-b5bf-4830-802f-13d65c14aead",
   "metadata": {},
   "outputs": [
    {
     "data": {
      "text/html": [
       "<table class=\"dataframe\">\n",
       "<caption>A tibble: 6 × 9</caption>\n",
       "<thead>\n",
       "\t<tr><th scope=col>Profile_mean</th><th scope=col>Profile_stdev</th><th scope=col>Profile_skewness</th><th scope=col>Profile_kurtosis</th><th scope=col>DM_mean</th><th scope=col>DM_stdev</th><th scope=col>DM_skewness</th><th scope=col>DM_kurtosis</th><th scope=col>class</th></tr>\n",
       "\t<tr><th scope=col>&lt;dbl&gt;</th><th scope=col>&lt;dbl&gt;</th><th scope=col>&lt;dbl&gt;</th><th scope=col>&lt;dbl&gt;</th><th scope=col>&lt;dbl&gt;</th><th scope=col>&lt;dbl&gt;</th><th scope=col>&lt;dbl&gt;</th><th scope=col>&lt;dbl&gt;</th><th scope=col>&lt;fct&gt;</th></tr>\n",
       "</thead>\n",
       "<tbody>\n",
       "\t<tr><td>140.56250</td><td>55.68378</td><td>-0.23457141</td><td>-0.6996484</td><td>3.199833</td><td>19.11043</td><td> 7.975532</td><td> 74.24222</td><td>0</td></tr>\n",
       "\t<tr><td>102.50781</td><td>58.88243</td><td> 0.46531815</td><td>-0.5150879</td><td>1.677258</td><td>14.86015</td><td>10.576487</td><td>127.39358</td><td>0</td></tr>\n",
       "\t<tr><td>103.01562</td><td>39.34165</td><td> 0.32332837</td><td> 1.0511644</td><td>3.121237</td><td>21.74467</td><td> 7.735822</td><td> 63.17191</td><td>0</td></tr>\n",
       "\t<tr><td>136.75000</td><td>57.17845</td><td>-0.06841464</td><td>-0.6362384</td><td>3.642977</td><td>20.95928</td><td> 6.896499</td><td> 53.59366</td><td>0</td></tr>\n",
       "\t<tr><td> 88.72656</td><td>40.67223</td><td> 0.60086608</td><td> 1.1234917</td><td>1.178930</td><td>11.46872</td><td>14.269573</td><td>252.56731</td><td>0</td></tr>\n",
       "\t<tr><td> 93.57031</td><td>46.69811</td><td> 0.53190485</td><td> 0.4167211</td><td>1.636288</td><td>14.54507</td><td>10.621748</td><td>131.39400</td><td>0</td></tr>\n",
       "</tbody>\n",
       "</table>\n"
      ],
      "text/latex": [
       "A tibble: 6 × 9\n",
       "\\begin{tabular}{lllllllll}\n",
       " Profile\\_mean & Profile\\_stdev & Profile\\_skewness & Profile\\_kurtosis & DM\\_mean & DM\\_stdev & DM\\_skewness & DM\\_kurtosis & class\\\\\n",
       " <dbl> & <dbl> & <dbl> & <dbl> & <dbl> & <dbl> & <dbl> & <dbl> & <fct>\\\\\n",
       "\\hline\n",
       "\t 140.56250 & 55.68378 & -0.23457141 & -0.6996484 & 3.199833 & 19.11043 &  7.975532 &  74.24222 & 0\\\\\n",
       "\t 102.50781 & 58.88243 &  0.46531815 & -0.5150879 & 1.677258 & 14.86015 & 10.576487 & 127.39358 & 0\\\\\n",
       "\t 103.01562 & 39.34165 &  0.32332837 &  1.0511644 & 3.121237 & 21.74467 &  7.735822 &  63.17191 & 0\\\\\n",
       "\t 136.75000 & 57.17845 & -0.06841464 & -0.6362384 & 3.642977 & 20.95928 &  6.896499 &  53.59366 & 0\\\\\n",
       "\t  88.72656 & 40.67223 &  0.60086608 &  1.1234917 & 1.178930 & 11.46872 & 14.269573 & 252.56731 & 0\\\\\n",
       "\t  93.57031 & 46.69811 &  0.53190485 &  0.4167211 & 1.636288 & 14.54507 & 10.621748 & 131.39400 & 0\\\\\n",
       "\\end{tabular}\n"
      ],
      "text/markdown": [
       "\n",
       "A tibble: 6 × 9\n",
       "\n",
       "| Profile_mean &lt;dbl&gt; | Profile_stdev &lt;dbl&gt; | Profile_skewness &lt;dbl&gt; | Profile_kurtosis &lt;dbl&gt; | DM_mean &lt;dbl&gt; | DM_stdev &lt;dbl&gt; | DM_skewness &lt;dbl&gt; | DM_kurtosis &lt;dbl&gt; | class &lt;fct&gt; |\n",
       "|---|---|---|---|---|---|---|---|---|\n",
       "| 140.56250 | 55.68378 | -0.23457141 | -0.6996484 | 3.199833 | 19.11043 |  7.975532 |  74.24222 | 0 |\n",
       "| 102.50781 | 58.88243 |  0.46531815 | -0.5150879 | 1.677258 | 14.86015 | 10.576487 | 127.39358 | 0 |\n",
       "| 103.01562 | 39.34165 |  0.32332837 |  1.0511644 | 3.121237 | 21.74467 |  7.735822 |  63.17191 | 0 |\n",
       "| 136.75000 | 57.17845 | -0.06841464 | -0.6362384 | 3.642977 | 20.95928 |  6.896499 |  53.59366 | 0 |\n",
       "|  88.72656 | 40.67223 |  0.60086608 |  1.1234917 | 1.178930 | 11.46872 | 14.269573 | 252.56731 | 0 |\n",
       "|  93.57031 | 46.69811 |  0.53190485 |  0.4167211 | 1.636288 | 14.54507 | 10.621748 | 131.39400 | 0 |\n",
       "\n"
      ],
      "text/plain": [
       "  Profile_mean Profile_stdev Profile_skewness Profile_kurtosis DM_mean \n",
       "1 140.56250    55.68378      -0.23457141      -0.6996484       3.199833\n",
       "2 102.50781    58.88243       0.46531815      -0.5150879       1.677258\n",
       "3 103.01562    39.34165       0.32332837       1.0511644       3.121237\n",
       "4 136.75000    57.17845      -0.06841464      -0.6362384       3.642977\n",
       "5  88.72656    40.67223       0.60086608       1.1234917       1.178930\n",
       "6  93.57031    46.69811       0.53190485       0.4167211       1.636288\n",
       "  DM_stdev DM_skewness DM_kurtosis class\n",
       "1 19.11043  7.975532    74.24222   0    \n",
       "2 14.86015 10.576487   127.39358   0    \n",
       "3 21.74467  7.735822    63.17191   0    \n",
       "4 20.95928  6.896499    53.59366   0    \n",
       "5 11.46872 14.269573   252.56731   0    \n",
       "6 14.54507 10.621748   131.39400   0    "
      ]
     },
     "metadata": {},
     "output_type": "display_data"
    }
   ],
   "source": [
    "pulsar <- pulsar |>\n",
    "    mutate(class = as_factor(class))\n",
    "head(pulsar)"
   ]
  },
  {
   "cell_type": "code",
   "execution_count": null,
   "id": "7bd1e4cd-052f-4c3c-846d-bcff94fc4fe8",
   "metadata": {},
   "outputs": [],
   "source": []
  },
  {
   "cell_type": "markdown",
   "id": "39263adf-6235-4be7-a21a-3082af2a0e90",
   "metadata": {},
   "source": [
    "## Methods"
   ]
  },
  {
   "cell_type": "markdown",
   "id": "1dcda247-d1b7-46ea-9e19-d1887dd8bbe7",
   "metadata": {},
   "source": [
    "In order to be doing our data analysis, we are going to use the scatterplot to help visualize the results. We will also use different colours for the dots to help distinguish the pulsars from the non-pulsars. The predictor variables we are planning to use for now are all of the 8 variables that were shown above excluding class (this column will be used to predict the pulsar), however we will adjust for them as we progress through the project if needed. We are planning to begin our analysis by first wrangling and performing a summary of our dataset, checking which variables are highly correlated with each other in order to filter out the ones we want to use for the project, and then build our classifier by splitting the variables into training + testing sets. After building our classifier we will use it to help predict the pulsars/non-pulsars and create a visualization (scatterplot) with a legend that distinguish the pulsars from non-pulsars\n",
    "\n",
    "Explain how you will conduct either your data analysis and which variables/columns you will use. Note - you do not need to use all variables/columns that exist in the raw data set. In fact, that's often not a good idea. For each variable think: is this a useful variable for prediction?\n",
    "Describe at least one way that you will visualize the results"
   ]
  },
  {
   "cell_type": "markdown",
   "id": "6e39d70b-65ef-418a-99e3-84a9aba565e6",
   "metadata": {},
   "source": [
    "## Expected Outcomes and Significance"
   ]
  },
  {
   "cell_type": "markdown",
   "id": "cacf3c56-465d-44f6-8302-f92b6d117b0b",
   "metadata": {},
   "source": [
    "* What do you expect to find?\n",
    "* What impact could such findings have?\n",
    "* What future questions could this lead to?\n"
   ]
  },
  {
   "cell_type": "code",
   "execution_count": null,
   "id": "b2a7e24a-3aa0-48db-b1f3-3e7de29e6cb1",
   "metadata": {},
   "outputs": [],
   "source": []
  }
 ],
 "metadata": {
  "kernelspec": {
   "display_name": "R",
   "language": "R",
   "name": "ir"
  },
  "language_info": {
   "codemirror_mode": "r",
   "file_extension": ".r",
   "mimetype": "text/x-r-source",
   "name": "R",
   "pygments_lexer": "r",
   "version": "4.1.3"
  }
 },
 "nbformat": 4,
 "nbformat_minor": 5
}
