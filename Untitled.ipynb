{
 "cells": [
  {
   "cell_type": "code",
   "execution_count": null,
   "id": "78062437-44ca-4ec9-87b6-b8f694de2faf",
   "metadata": {},
   "outputs": [],
   "source": [
    "#load library\n",
    "library(tidyverse)\n",
    "library(repr)\n",
    "library(tidymodels)\n",
    "\n",
    "#set seed\n",
    "set.seed(144)"
   ]
  },
  {
   "cell_type": "code",
   "execution_count": null,
   "id": "b09d0f0c-d74e-4d41-9cef-37413f30f98b",
   "metadata": {},
   "outputs": [],
   "source": [
    "pulsar <- read_csv('https://raw.githubusercontent.com/susanyliu/dsci100-project144/main/data/HTRU_2.csv', col_names = FALSE)"
   ]
  },
  {
   "cell_type": "code",
   "execution_count": null,
   "id": "9bd70dee-0472-4a60-9832-d9d9afad4d05",
   "metadata": {},
   "outputs": [],
   "source": [
    "colnames(pulsar) <- c('Profile_mean', 'Profile_stdev', 'Profile_skewness', 'Profile_kurtosis', \n",
    "                      'DM_mean', 'DM_stdev', 'DM_skewness', 'DM_kurtosis', 'class')"
   ]
  },
  {
   "cell_type": "code",
   "execution_count": null,
   "id": "1c3f72fb-a107-457a-9bea-02ffca348a17",
   "metadata": {},
   "outputs": [],
   "source": [
    "pulsar <- pulsar |>\n",
    "    mutate(class = as_factor(class))\n",
    "head(pulsar)"
   ]
  },
  {
   "cell_type": "code",
   "execution_count": null,
   "id": "6a3b4307-c429-4d1d-b04a-02e6a4285763",
   "metadata": {},
   "outputs": [],
   "source": [
    "pulsar_split <- initial_split(pulsar, prop = 0.75, strata = class)\n",
    "pulsar_train <- training(pulsar_split)\n",
    "pulsar_test <- testing(pulsar_split)"
   ]
  },
  {
   "cell_type": "code",
   "execution_count": null,
   "id": "0a24c890-f360-4f14-94f7-c4c1dbacc02d",
   "metadata": {},
   "outputs": [],
   "source": [
    "set.seed(1)\n",
    "   pulsar_vfold <- vfold_cv(pulsar_train, v = 10, strata = class)\n",
    "   pulsar_recipe <- recipe(class~ Profile_mean, Profile_stdev, Profile_skewness, Profile_kurtosis, DM_mean, data = pulsar_train) |>\n",
    "     step_scale(all_predictors()) |>\n",
    "     step_center(all_predictors())\n",
    "\n",
    "   knn_spec <- nearest_neighbor(weight_func = \"rectangular\", neighbors = tune()) |>\n",
    "     set_engine(\"kknn\") |>\n",
    "     set_mode(\"classification\")\n",
    "\n",
    "   knn_results <- workflow() |>\n",
    "     add_recipe(pulsar_recipe) |>\n",
    "     add_model(knn_spec) |>\n",
    "     tune_grid(resamples = pulsar_vfold, grid = 10) |>\n",
    "     collect_metrics()\n",
    "\n",
    "   accuracies <- knn_results |>\n",
    "     filter(.metric == \"accuracy\")"
   ]
  },
  {
   "cell_type": "code",
   "execution_count": null,
   "id": "edc9d9f2-4f8c-490a-9bf4-6cf740dee3c5",
   "metadata": {},
   "outputs": [],
   "source": [
    "cross_val_plot <- accuracies |>\n",
    "       ggplot(aes(x = neighbors, y = mean)) +\n",
    "       geom_point() +\n",
    "       geom_line() +\n",
    "       labs(x = \"Neighbors\", y = \"Accuracy Estimate\") +\n",
    "       theme(text = element_text(size = 20))\n",
    "cross_val_plot"
   ]
  },
  {
   "cell_type": "code",
   "execution_count": null,
   "id": "215745ee-6187-4500-9ed3-4d3e74a5ed9f",
   "metadata": {},
   "outputs": [],
   "source": []
  },
  {
   "cell_type": "code",
   "execution_count": null,
   "id": "5ac5ab4c-eec5-4d75-85db-315e3bbf7713",
   "metadata": {},
   "outputs": [],
   "source": []
  }
 ],
 "metadata": {
  "kernelspec": {
   "display_name": "R",
   "language": "R",
   "name": "ir"
  },
  "language_info": {
   "codemirror_mode": "r",
   "file_extension": ".r",
   "mimetype": "text/x-r-source",
   "name": "R",
   "pygments_lexer": "r",
   "version": "4.1.3"
  }
 },
 "nbformat": 4,
 "nbformat_minor": 5
}
